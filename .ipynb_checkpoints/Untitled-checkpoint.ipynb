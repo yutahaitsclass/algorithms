{
 "cells": [
  {
   "cell_type": "markdown",
   "metadata": {},
   "source": [
    "# アルゴリズムとは何か？\n",
    "それは端的に言うと、問題を解くための手順である。\n",
    "今回は「ソート」について考えてみます。\n",
    "扱うソートアルゴリズムは、\n",
    "- バブルソート (bubble sort)\n",
    "- 選択ソート (select sort)\n",
    "- 挿入ソート (insert sort)\n",
    "- マージソート (merge sort)\n",
    "- クイックソート (quick sort)\n",
    "- カウントソート (count sort)"
   ]
  },
  {
   "cell_type": "markdown",
   "metadata": {},
   "source": [
    "# バブルソート\n",
    "横同士の大小を比較交換をし、更にそれを変更の必要がなくなるまで行う。\n",
    "シンプルでわかりやすい。"
   ]
  },
  {
   "cell_type": "code",
   "execution_count": 2,
   "metadata": {},
   "outputs": [],
   "source": [
    "def bubble_sort(arr):\n",
    "    change = True\n",
    "    while change:\n",
    "        change = False\n",
    "        for i in range(len(arr) - 1):\n",
    "            if arr[i] > arr[i + 1]:\n",
    "                arr[i], arr[i + 1] = arr[i + 1], arr[i]\n",
    "                change = True\n",
    "    return arr"
   ]
  },
  {
   "cell_type": "code",
   "execution_count": 4,
   "metadata": {},
   "outputs": [
    {
     "data": {
      "text/plain": [
       "[1, 2, 3, 4, 4, 4, 5, 5, 6, 6, 7, 8]"
      ]
     },
     "execution_count": 4,
     "metadata": {},
     "output_type": "execute_result"
    }
   ],
   "source": [
    "bubble_sort([1,4,5,7,4,3,2,5,4,6,8,6])"
   ]
  },
  {
   "cell_type": "markdown",
   "metadata": {},
   "source": [
    "# 選択ソート\n",
    "配列中の最小か最大を選択し、それを端に移動させていく。\n",
    "\n",
    "メモリ使用量を O(1) にするために、新しい list に入れていくのではなく置換で実装しています。"
   ]
  },
  {
   "cell_type": "code",
   "execution_count": 16,
   "metadata": {},
   "outputs": [],
   "source": [
    "def sellect_sort(arr):\n",
    "    for ind, ele in enumerate(arr):\n",
    "        min_ind = min(range(ind, len(arr)), key=arr.__getitem__)\n",
    "        arr[ind], arr[min_ind] = arr[min_ind], ele\n",
    "    return arr"
   ]
  },
  {
   "cell_type": "code",
   "execution_count": null,
   "metadata": {},
   "outputs": [],
   "source": []
  },
  {
   "cell_type": "code",
   "execution_count": null,
   "metadata": {},
   "outputs": [],
   "source": []
  }
 ],
 "metadata": {
  "kernelspec": {
   "display_name": "Python 3",
   "language": "python",
   "name": "python3"
  },
  "language_info": {
   "codemirror_mode": {
    "name": "ipython",
    "version": 3
   },
   "file_extension": ".py",
   "mimetype": "text/x-python",
   "name": "python",
   "nbconvert_exporter": "python",
   "pygments_lexer": "ipython3",
   "version": "3.7.0"
  }
 },
 "nbformat": 4,
 "nbformat_minor": 2
}
